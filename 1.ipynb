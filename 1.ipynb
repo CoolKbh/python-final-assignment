{
 "cells": [
  {
   "cell_type": "markdown",
   "id": "8ed54a6e",
   "metadata": {
    "pycharm": {
     "name": "#%% md\n"
    }
   },
   "source": [
    "# Programmable Web需求关键词视角下的历史调用记录分析\n",
    "## 1.统计 Mashup中的包含Web API个数、Web API被使用的次数和Web API提供商发布Web API的个数"
   ]
  },
  {
   "cell_type": "code",
   "execution_count": 13,
   "id": "3958719a",
   "metadata": {
    "pycharm": {
     "name": "#%%\n"
    }
   },
   "outputs": [],
   "source": [
    "import pandas as pd\n",
    "import numpy as np\n",
    "import sys\n",
    "import openpyxl as pxl\n",
    "from matplotlib import pyplot as plt\n",
    "import json\n",
    "from pyecharts.charts import Pie\n",
    "from pyecharts import options as opts\n",
    "from collections import Counter"
   ]
  },
  {
   "cell_type": "code",
   "execution_count": 37,
   "id": "b415698f",
   "metadata": {
    "pycharm": {
     "name": "#%%\n"
    }
   },
   "outputs": [
    {
     "name": "stdout",
     "output_type": "stream",
     "text": [
      "Mashup中包含Web API个数： 7766\n",
      "url\n",
      "Http://www.freakstreets.com                                          1\n",
      "Http://www.mashupstation.com/station/users/admin/dapptest.html       1\n",
      "Undefined                                                         1519\n",
      "http://1000songs.ebotunes.com                                        1\n",
      "http://100milediet.org/get-started/map                               1\n",
      "                                                                  ... \n",
      "https://www.xtracked.com/                                            1\n",
      "https://www.youcallmd.com/                                           1\n",
      "https://www.yuntechnologies.com/documentsigner.html                  1\n",
      "https://xen.do/                                                      1\n",
      "https://zilyo.com/                                                   1\n",
      "Name: url, Length: 6212, dtype: int64\n"
     ]
    }
   ],
   "source": [
    "data = pd.read_csv('mashup_nodes_estimator.csv', sep='\\t')\n",
    "apiSum = data[\"name\"].count()\n",
    "print(\"Mashup中包含Web API个数：\", apiSum)\n",
    "companyProvide = data.groupby(\"url\")[\"url\"].count()\n",
    "print(companyProvide)"
   ]
  },
  {
   "cell_type": "code",
   "execution_count": 38,
   "outputs": [
    {
     "name": "stdout",
     "output_type": "stream",
     "text": [
      "每个API使用次数： target\n",
      "/api/123-shop-pro      1\n",
      "/api/123contactform    1\n",
      "/api/12secondstv       1\n",
      "/api/140-proof         1\n",
      "/api/18amail           1\n",
      "                      ..\n",
      "/api/zooomr            4\n",
      "/api/zoopla            2\n",
      "/api/zootool           1\n",
      "/api/zotero            2\n",
      "/api/zvents            7\n",
      "Name: target, Length: 1508, dtype: int64\n"
     ]
    }
   ],
   "source": [
    "data = pd.read_csv('m-a_edges.csv', sep='\\t')\n",
    "apiSum = data.groupby(\"target\")[\"target\"].count()\n",
    "print(\"每个API使用次数：\", apiSum)"
   ],
   "metadata": {
    "collapsed": false,
    "pycharm": {
     "name": "#%%\n"
    }
   }
  },
  {
   "cell_type": "code",
   "execution_count": null,
   "outputs": [],
   "source": [
    "with open('graph_data_backup/data0906-1.txt', 'r', encoding='utf-8') as act_file:\n",
    "    act_mashups = json.load(act_file)\n",
    "    act_mashups = [m for m in act_mashups if m is not None]\n",
    "\n",
    "with open('graph_data_backup/deadpool_mashups0917.txt', 'r', encoding='utf-8') as dead_file:\n",
    "    dead_mashups = json.load(dead_file)\n",
    "    dead_mashups = [m for m in dead_mashups if m is not None]\n",
    "\n",
    "all_mashups = act_mashups + dead_mashups\n",
    "\n",
    "api_usage_counter = Counter()\n",
    "for ma in all_mashups:\n",
    "    ras = ma['related_apis']\n",
    "    for ra in ras:\n",
    "        if ra is None:\n",
    "            continue\n",
    "        api_usage_counter[ra['url']] += 1\n",
    "\n",
    "print(\"Web API使用次数\", len(api_usage_counter))"
   ],
   "metadata": {
    "collapsed": false,
    "pycharm": {
     "name": "#%%\n"
    }
   }
  },
  {
   "cell_type": "code",
   "execution_count": null,
   "outputs": [],
   "source": [
    "def get_usage(url):\n",
    "    return api_usage_counter[url]\n",
    "\n",
    "get_usage('/api/google-maps')\n",
    "\n",
    "mashup_count_pairs = {}\n",
    "for pl in data:\n",
    "    temp_pair = (pl[0], pl[1], pl[2])\n",
    "    for mashup in api_pair_mashups[temp_pair]:\n",
    "        if mashup in mashup_count_pairs:\n",
    "            mashup_count_pairs[mashup].append(pl)\n",
    "        else:\n",
    "            mashup_count_pairs[mashup] = [pl]\n",
    "\n",
    "list(mashup_count_pairs.items())[:3]"
   ],
   "metadata": {
    "collapsed": false,
    "pycharm": {
     "name": "#%%\n"
    }
   }
  },
  {
   "cell_type": "code",
   "execution_count": null,
   "outputs": [],
   "source": [
    "def is_accessible(title):\n",
    "    return acc_dict.get(title, False)\n",
    "\n",
    "api_pairs = {}    # mashup和他的pair\n",
    "api_pair_mashups = {}\n",
    "mashups_name_dict = {}\n",
    "for dd in all_mashups:\n",
    "    mashups_name_dict[dd['title']] = dd\n",
    "    ra_links = []\n",
    "    if dd is None:\n",
    "        continue\n",
    "    for ra in dd['related_apis']:\n",
    "        if ra is None:\n",
    "            continue\n",
    "        ra_links.append(ra['url'])\n",
    "    pairs = produce_pair(ra_links, False, True)\n",
    "    api_pairs[dd['title']] = pairs\n",
    "    for pair in pairs:\n",
    "        if pair in api_pair_mashups:\n",
    "            api_pair_mashups[pair].append(dd['title'])\n",
    "        else:\n",
    "            api_pair_mashups[pair] = [dd['title']]\n",
    "\n",
    "len(api_pairs), len(api_pair_mashups)\n",
    "\n",
    "\n",
    "api_pairs_counter_all = Counter()\n",
    "api_pairs_counter_act = Counter()\n",
    "for mashup_name in api_pairs:\n",
    "    pairs = api_pairs[mashup_name]\n",
    "    for pair in pairs:\n",
    "        api_pairs_counter_all[pair] += 1\n",
    "        if is_accessible(mashup_name):\n",
    "            api_pairs_counter_act[pair] += 1\n",
    "# 整理数据\n",
    "api_pairs_list = []\n",
    "for pair in api_pairs_counter_all.keys():\n",
    "    if pair in api_pairs_counter_act:\n",
    "        new_pair = (pair[0], pair[1], pair[2], api_pairs_counter_act[pair], api_pairs_counter_all[pair], 0.)\n",
    "    else:\n",
    "        # 不在act字典，说明没有被活着的mashup引用\n",
    "        new_pair = (pair[0], pair[1], pair[2], 0, api_pairs_counter_all[pair], 0.)\n",
    "    api_pairs_list.append(new_pair)\n",
    "api_pairs_list = sorted(api_pairs_list, key=lambda x: x[4], reverse=True)\n",
    "api_pairs_list = remove_symmetry(api_pairs_list)\n",
    "api_pairs_list[:10]\n",
    "# 统计一下mashup平均存活时间\n",
    "# 这里的存活时间是pw的\n",
    "# 为了方便统计多种情况写一个函数\n",
    "def get_table_data(api_pairs_list, dead_time='oet'):\n",
    "    new_pair_list = []\n",
    "    npday = np.timedelta64(1, 'D')\n",
    "    for pair in api_pairs_list:\n",
    "        temp_pair = (pair[0], pair[1], pair[2])\n",
    "        using_mashup_names = api_pair_mashups[temp_pair]  # 获得了names，要获得详情\n",
    "        if len(using_mashup_names) == 0:\n",
    "            print(temp_pair)\n",
    "            continue\n",
    "        act_use = 0\n",
    "        all_use = 0\n",
    "        alive_days_list = []\n",
    "        for name in using_mashup_names:\n",
    "            # mashup_obj = mashups_name_dict[name]\n",
    "            st, et, oet = submit_dead_time_dict.get(name, (None, None, None))\n",
    "            # st, et, oet = st.dt.year.values[0], et.dt.year.values[0], oet.dt.year.values[0]\n",
    "            if st is None:\n",
    "                # 这个mashup不在csv文件中，直接舍弃\n",
    "                continue\n",
    "            # st 不是None，all_use += 1\n",
    "            all_use += 1\n",
    "            if dead_time == 'oet':\n",
    "                # 用oet判断存活与否\n",
    "                if oet.dt.year.values[0] > 2200:\n",
    "                    # 活着的mashup\n",
    "                    act_use += 1\n",
    "                    # alive_days = '-' # 到目前依然存活\n",
    "                else:\n",
    "                    # 已死亡的mashup\n",
    "                    alive_days = oet - st\n",
    "                    alive_days_list.append(alive_days.values[0] / npday)\n",
    "            elif dead_time == 'et':\n",
    "                # 用et判断存活与否\n",
    "                if et.dt.year.values[0] > 2200:\n",
    "                    # 活着的mashup\n",
    "                    act_use += 1\n",
    "                else:\n",
    "                    # 已死亡的mashup\n",
    "                    alive_days = et - st\n",
    "                    alive_days_list.append(alive_days.values[0] / npday)\n",
    "            else:\n",
    "                print('Use et or oet')\n",
    "                return None\n",
    "        if all_use == 0:\n",
    "            print(temp_pair)\n",
    "            continue\n",
    "        dead_use = all_use - act_use\n",
    "        if dead_use == 0:\n",
    "            new_pair = (pair[0], pair[1], pair[2], act_use, all_use, act_use / float(all_use), -1)\n",
    "        else:\n",
    "            new_pair = (\n",
    "            pair[0], pair[1], pair[2], act_use, all_use, act_use / float(all_use), sum(alive_days_list) / dead_use)\n",
    "        new_pair_list.append(new_pair)\n",
    "\n",
    "    return new_pair_list\n",
    "\n",
    "\n",
    "table_data = get_table_data(api_pairs_list, dead_time='et')"
   ],
   "metadata": {
    "collapsed": false,
    "pycharm": {
     "name": "#%%\n"
    }
   }
  }
 ],
 "metadata": {
  "kernelspec": {
   "display_name": "tensorflow",
   "language": "python",
   "name": "tensorflow"
  },
  "language_info": {
   "codemirror_mode": {
    "name": "ipython",
    "version": 3
   },
   "file_extension": ".py",
   "mimetype": "text/x-python",
   "name": "python",
   "nbconvert_exporter": "python",
   "pygments_lexer": "ipython3",
   "version": "3.7.13"
  }
 },
 "nbformat": 4,
 "nbformat_minor": 5
}