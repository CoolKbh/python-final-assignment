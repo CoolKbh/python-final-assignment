{
 "cells": [
  {
   "cell_type": "markdown",
   "metadata": {
    "collapsed": true,
    "pycharm": {
     "name": "#%% md\n"
    }
   },
   "source": [
    "# 2"
   ]
  },
  {
   "cell_type": "code",
   "execution_count": 1,
   "outputs": [],
   "source": [
    "from collections import Counter\n",
    "import matplotlib.pyplot as plt\n",
    "import json\n",
    "import copy"
   ],
   "metadata": {
    "collapsed": false,
    "pycharm": {
     "name": "#%%\n"
    }
   }
  },
  {
   "cell_type": "code",
   "execution_count": 34,
   "outputs": [
    {
     "data": {
      "text/plain": "[('/api/google-maps', '/api/twitter', 0, 151, 184, 0.82),\n ('/api/twitter', '/api/google-maps', 0, 151, 184, 0.82),\n ('/api/flickr', '/api/youtube', 0, 139, 184, 0.76),\n ('/api/youtube', '/api/flickr', 0, 139, 184, 0.76),\n ('/api/facebook', '/api/twitter', 0, 159, 180, 0.88)]"
     },
     "execution_count": 34,
     "metadata": {},
     "output_type": "execute_result"
    }
   ],
   "source": [
    "data = []\n",
    "with open('raw/all_pairs.txt', 'r', encoding='utf-8') as file:\n",
    "    file.readline()     # 读掉第一行\n",
    "    for line in file:\n",
    "        data.append(eval(line))\n",
    "data[:5]"
   ],
   "metadata": {
    "collapsed": false,
    "pycharm": {
     "name": "#%%\n"
    }
   }
  },
  {
   "cell_type": "code",
   "execution_count": 7,
   "outputs": [
    {
     "data": {
      "text/plain": "[('/api/twitter', '/api/google-maps', 0, 62, 184, 0.0),\n ('/api/flickr', '/api/youtube', 0, 36, 184, 0.0),\n ('/api/twitter', '/api/facebook', 0, 64, 179, 0.0),\n ('/api/flickr', '/api/google-maps', 0, 46, 171, 0.0),\n ('/api/google-maps', '/api/youtube', 0, 48, 157, 0.0),\n ('/api/twilio-sms', '/api/twilio', 0, 42, 152, 0.0)]"
     },
     "execution_count": 7,
     "metadata": {},
     "output_type": "execute_result"
    }
   ],
   "source": [
    "def remove_symmetry(data):\n",
    "    # 清理数据，把对称的删除\n",
    "    data2 = copy.deepcopy(data)\n",
    "    for d in data2:\n",
    "        rev_d = (d[1], d[0], d[2], d[3], d[4], d[5])\n",
    "        if rev_d in data2:\n",
    "            data2.remove(d)\n",
    "    return data2"
   ],
   "metadata": {
    "collapsed": false,
    "pycharm": {
     "name": "#%%\n"
    }
   }
  },
  {
   "cell_type": "markdown",
   "source": [
    "读取原始数据，然后获取我们实际访问出来的Mashup存活情况"
   ],
   "metadata": {
    "collapsed": false,
    "pycharm": {
     "name": "#%% md\n"
    }
   }
  },
  {
   "cell_type": "code",
   "execution_count": 16,
   "outputs": [],
   "source": [
    "with open('raw/api_mashup/active_mashups_data.txt', 'r', encoding='utf-8') as act_file:\n",
    "    act_mashups = json.load(act_file)\n",
    "    act_mashups = [m for m in act_mashups if m is not None]\n",
    "\n",
    "with open('raw/api_mashup/deadpool_mashups_data.txt', 'r', encoding='utf-8') as dead_file:\n",
    "    dead_mashups = json.load(dead_file)\n",
    "    dead_mashups = [m for m in dead_mashups if m is not None]\n",
    "\n",
    "all_mashups = act_mashups + dead_mashups"
   ],
   "metadata": {
    "collapsed": false,
    "pycharm": {
     "name": "#%%\n"
    }
   }
  },
  {
   "cell_type": "code",
   "execution_count": 17,
   "outputs": [],
   "source": [
    "with open('raw/accessiblility/api_accessbility/mashup_accessibility.txt', 'r') as acc:\n",
    "    accessibility = json.load(acc)\n",
    "    # accessibility = [ac for ac in accessibility if ac is not None]\n",
    "    # build a dict\n",
    "    acc_dict = {}\n",
    "    for ac in accessibility:\n",
    "        if ac is None:\n",
    "            continue\n",
    "        else:\n",
    "            if ac['is_accessible']:\n",
    "                acc_dict[ac['title']] = True\n",
    "            else:\n",
    "                acc_dict[ac['title']] = False\n",
    "\n",
    "def is_accessible(title):\n",
    "    return acc_dict.get(title, False)\n",
    "\n",
    "def produce_pair(apis, requires_reflexive=False, requires_symmetry=False):\n",
    "    pairs = set()\n",
    "    sorted_apis = sorted(apis, key=lambda x: x[0])\n",
    "    for l in sorted_apis:\n",
    "        if requires_reflexive:\n",
    "            pairs.add((l, l, 0))\n",
    "        for r in sorted_apis:\n",
    "            if l != r:\n",
    "                if requires_symmetry:\n",
    "                    pairs.add((l, r, 0))\n",
    "                else:\n",
    "                    # 不要对称的\n",
    "                    if (r, l, 0) not in pairs:\n",
    "                        pairs.add((l, r, 0))\n",
    "    return list(pairs)"
   ],
   "metadata": {
    "collapsed": false,
    "pycharm": {
     "name": "#%%\n"
    }
   }
  },
  {
   "cell_type": "markdown",
   "source": [
    "### 制作数据结构\n",
    "1. mashup_title -> [pair] (list)\n",
    "2. pair -> [mashup_title]\n",
    "3. mashup_title -> mashup_object"
   ],
   "metadata": {
    "collapsed": false,
    "pycharm": {
     "name": "#%% md\n"
    }
   }
  },
  {
   "cell_type": "code",
   "execution_count": 18,
   "outputs": [
    {
     "data": {
      "text/plain": "(7901, 29078)"
     },
     "execution_count": 18,
     "metadata": {},
     "output_type": "execute_result"
    }
   ],
   "source": [
    "api_pairs = {}    # mashup和他的pair\n",
    "api_pair_mashups = {}\n",
    "mashups_name_dict = {}\n",
    "for dd in all_mashups:\n",
    "    mashups_name_dict[dd['title']] = dd\n",
    "    ra_links = []\n",
    "    if dd is None:\n",
    "        continue\n",
    "    for ra in dd['related_apis']:\n",
    "        if ra is None:\n",
    "            continue\n",
    "        ra_links.append(ra['url'])\n",
    "    pairs = produce_pair(ra_links, False, True)\n",
    "    api_pairs[dd['title']] = pairs\n",
    "    for pair in pairs:\n",
    "        if pair in api_pair_mashups:\n",
    "            api_pair_mashups[pair].append(dd['title'])\n",
    "        else:\n",
    "            api_pair_mashups[pair] = [dd['title']]\n",
    "\n",
    "len(api_pairs), len(api_pair_mashups)\n"
   ],
   "metadata": {
    "collapsed": false,
    "pycharm": {
     "name": "#%%\n"
    }
   }
  },
  {
   "cell_type": "code",
   "execution_count": 19,
   "outputs": [],
   "source": [
    "api_pairs_counter_all = Counter()\n",
    "api_pairs_counter_act = Counter()\n",
    "for mashup_name in api_pairs:\n",
    "    pairs = api_pairs[mashup_name]\n",
    "    for pair in pairs:\n",
    "        api_pairs_counter_all[pair] += 1\n",
    "        if is_accessible(mashup_name):\n",
    "            api_pairs_counter_act[pair] += 1"
   ],
   "metadata": {
    "collapsed": false,
    "pycharm": {
     "name": "#%%\n"
    }
   }
  },
  {
   "cell_type": "code",
   "execution_count": 20,
   "outputs": [],
   "source": [
    "# 整理数据\n",
    "api_pairs_list = []\n",
    "for pair in api_pairs_counter_all.keys():\n",
    "    if pair in api_pairs_counter_act:\n",
    "        new_pair = (pair[0], pair[1], pair[2], api_pairs_counter_act[pair], api_pairs_counter_all[pair], 0.)\n",
    "    else:\n",
    "        # 不在act字典，说明没有被活着的mashup引用\n",
    "        new_pair = (pair[0], pair[1], pair[2], 0, api_pairs_counter_all[pair], 0.)\n",
    "    api_pairs_list.append(new_pair)\n",
    "api_pairs_list = sorted(api_pairs_list, key=lambda x: x[4], reverse=True)\n",
    "api_pairs_list = remove_symmetry(api_pairs_list)"
   ],
   "metadata": {
    "collapsed": false,
    "pycharm": {
     "name": "#%%\n"
    }
   }
  },
  {
   "cell_type": "code",
   "execution_count": 21,
   "outputs": [
    {
     "data": {
      "text/plain": "[('/api/google-maps', '/api/twitter', 0, 62, 184, 0.0),\n ('/api/twitter', '/api/google-maps', 0, 62, 184, 0.0),\n ('/api/flickr', '/api/youtube', 0, 36, 184, 0.0),\n ('/api/youtube', '/api/flickr', 0, 36, 184, 0.0),\n ('/api/facebook', '/api/twitter', 0, 64, 179, 0.0),\n ('/api/twitter', '/api/facebook', 0, 64, 179, 0.0),\n ('/api/flickr', '/api/google-maps', 0, 46, 171, 0.0),\n ('/api/google-maps', '/api/flickr', 0, 46, 171, 0.0),\n ('/api/youtube', '/api/google-maps', 0, 48, 157, 0.0),\n ('/api/google-maps', '/api/youtube', 0, 48, 157, 0.0)]"
     },
     "execution_count": 21,
     "metadata": {},
     "output_type": "execute_result"
    }
   ],
   "source": [
    "api_pairs_list[:10]"
   ],
   "metadata": {
    "collapsed": false,
    "pycharm": {
     "name": "#%%\n"
    }
   }
  },
  {
   "cell_type": "code",
   "execution_count": 36,
   "outputs": [
    {
     "data": {
      "text/plain": "(99.856, 112.93739673214614)"
     },
     "execution_count": 36,
     "metadata": {},
     "output_type": "execute_result"
    }
   ],
   "source": [
    "act_count_pair = 0\n",
    "dead_count_pair = 0\n",
    "act_count_mashup = 0\n",
    "dead_count_mashup = 0\n",
    "\n",
    "for dd in all_mashups:\n",
    "    ra_links = []\n",
    "    if dd is None:\n",
    "        continue\n",
    "    for ra in dd['related_apis']:\n",
    "        if ra is None:\n",
    "            continue\n",
    "        ra_links.append(ra['url'])\n",
    "    temp_pairs = produce_pair(ra_links, False, True)\n",
    "    if is_accessible(dd['title']):\n",
    "        act_count_mashup += 1\n",
    "    else:\n",
    "        dead_count_mashup += 1\n",
    "    for pair in temp_pairs:\n",
    "        count = api_pairs_counter_all[pair]\n",
    "        if is_accessible(dd['title']):\n",
    "            act_count_pair += count\n",
    "        else:\n",
    "            dead_count_pair += count\n",
    "\n",
    "act_count_pair / float(act_count_mashup), dead_count_pair / float(dead_count_mashup)\n",
    "\n",
    "\n"
   ],
   "metadata": {
    "collapsed": false,
    "pycharm": {
     "name": "#%%\n"
    }
   }
  },
  {
   "cell_type": "markdown",
   "source": [
    "## 统计Mashup中api的被使用次数"
   ],
   "metadata": {
    "collapsed": false,
    "pycharm": {
     "name": "#%% md\n"
    }
   }
  },
  {
   "cell_type": "code",
   "execution_count": 8,
   "outputs": [
    {
     "data": {
      "text/plain": "1693"
     },
     "execution_count": 8,
     "metadata": {},
     "output_type": "execute_result"
    }
   ],
   "source": [
    "api_usage_counter = Counter()\n",
    "for ma in all_mashups:\n",
    "    ras = ma['related_apis']\n",
    "    for ra in ras:\n",
    "        if ra is None:\n",
    "            continue\n",
    "        api_usage_counter[ra['url']] += 1\n",
    "\n",
    "len(api_usage_counter)"
   ],
   "metadata": {
    "collapsed": false,
    "pycharm": {
     "name": "#%%\n"
    }
   }
  },
  {
   "cell_type": "code",
   "execution_count": 9,
   "outputs": [
    {
     "data": {
      "text/plain": "[('/api/google-maps', 2575),\n ('/api/twitter', 827),\n ('/api/youtube', 710),\n ('/api/flickr', 635),\n ('/api/facebook', 451),\n ('/api/amazon-product-advertising', 433),\n ('/api/twilio', 361),\n ('/api/lastfm', 245),\n ('/api/ebay', 227),\n ('/api/google-search', 194)]"
     },
     "execution_count": 9,
     "metadata": {},
     "output_type": "execute_result"
    }
   ],
   "source": [
    "list(sorted(api_usage_counter.items(), key=lambda x: x[1], reverse=True))[:10]"
   ],
   "metadata": {
    "collapsed": false,
    "pycharm": {
     "name": "#%%\n"
    }
   }
  },
  {
   "cell_type": "code",
   "execution_count": 10,
   "outputs": [],
   "source": [
    "def get_usage(url):\n",
    "    return api_usage_counter[url]"
   ],
   "metadata": {
    "collapsed": false,
    "pycharm": {
     "name": "#%%\n"
    }
   }
  },
  {
   "cell_type": "code",
   "execution_count": 11,
   "outputs": [
    {
     "data": {
      "text/plain": "2575"
     },
     "execution_count": 11,
     "metadata": {},
     "output_type": "execute_result"
    }
   ],
   "source": [
    "# 获得api在Mashup中的使用次数\n",
    "get_usage('/api/google-maps')"
   ],
   "metadata": {
    "collapsed": false,
    "pycharm": {
     "name": "#%%\n"
    }
   }
  },
  {
   "cell_type": "markdown",
   "source": [
    "已经有了pair->mashups\n",
    "\n",
    "还需要mashup->pairs"
   ],
   "metadata": {
    "collapsed": false,
    "pycharm": {
     "name": "#%% md\n"
    }
   }
  },
  {
   "cell_type": "code",
   "execution_count": 12,
   "outputs": [
    {
     "data": {
      "text/plain": "[('Mashup: PropRover',\n  [('/api/twitter', '/api/google-maps', 0, 62, 184, 0.0),\n   ('/api/feedburner', '/api/twitter', 0, 2, 7, 0.0),\n   ('/api/feedburner', '/api/google-maps', 0, 2, 6, 0.0),\n   ('/api/feedburner', '/api/facebook-business-mapping', 0, 0, 1, 0.0),\n   ('/api/facebook-business-mapping', '/api/twitter', 0, 0, 1, 0.0),\n   ('/api/feedburner', '/api/google-my-business', 0, 0, 1, 0.0),\n   ('/api/google-my-business', '/api/facebook-business-mapping', 0, 0, 1, 0.0),\n   ('/api/google-maps', '/api/facebook-business-mapping', 0, 0, 1, 0.0),\n   ('/api/twitter', '/api/google-my-business', 0, 0, 1, 0.0),\n   ('/api/facebook-business-mapping', '/api/feedburner', 0, 0, 1, 0.0),\n   ('/api/google-maps', '/api/google-my-business', 0, 0, 1, 0.0)]),\n ('Mashup: We Read, We Tweet',\n  [('/api/twitter', '/api/google-maps', 0, 62, 184, 0.0),\n   ('/api/google-maps', '/api/new-york-times-article-search', 0, 0, 4, 0.0),\n   ('/api/twitter', '/api/backtweets', 0, 0, 3, 0.0),\n   ('/api/new-york-times-article-search', '/api/twitter', 0, 0, 2, 0.0),\n   ('/api/backtweets', '/api/google-maps', 0, 0, 1, 0.0),\n   ('/api/new-york-times-article-search', '/api/backtweets', 0, 0, 1, 0.0)]),\n ('Mashup: AuroraMap',\n  [('/api/twitter', '/api/google-maps', 0, 62, 184, 0.0),\n   ('/api/twitter', '/api/facebook', 0, 64, 179, 0.0),\n   ('/api/flickr', '/api/google-maps', 0, 46, 171, 0.0),\n   ('/api/facebook', '/api/google-maps', 0, 39, 111, 0.0),\n   ('/api/flickr', '/api/twitter', 0, 37, 111, 0.0),\n   ('/api/facebook', '/api/flickr', 0, 24, 71, 0.0)])]"
     },
     "execution_count": 12,
     "metadata": {},
     "output_type": "execute_result"
    }
   ],
   "source": [
    "mashup_count_pairs = {}\n",
    "for pl in data:\n",
    "    temp_pair = (pl[0], pl[1], pl[2])\n",
    "    for mashup in api_pair_mashups[temp_pair]:\n",
    "        if mashup in mashup_count_pairs:\n",
    "            mashup_count_pairs[mashup].append(pl)\n",
    "        else:\n",
    "            mashup_count_pairs[mashup] = [pl]\n",
    "\n",
    "list(mashup_count_pairs.items())[:3]\n"
   ],
   "metadata": {
    "collapsed": false,
    "pycharm": {
     "name": "#%%\n"
    }
   }
  }
 ],
 "metadata": {
  "kernelspec": {
   "display_name": "Python 3",
   "language": "python",
   "name": "python3"
  },
  "language_info": {
   "codemirror_mode": {
    "name": "ipython",
    "version": 2
   },
   "file_extension": ".py",
   "mimetype": "text/x-python",
   "name": "python",
   "nbconvert_exporter": "python",
   "pygments_lexer": "ipython2",
   "version": "2.7.6"
  }
 },
 "nbformat": 4,
 "nbformat_minor": 0
}