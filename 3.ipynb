{
 "cells": [
  {
   "cell_type": "markdown",
   "metadata": {
    "collapsed": true,
    "pycharm": {
     "name": "#%% md\n"
    }
   },
   "source": [
    "# 3"
   ]
  },
  {
   "cell_type": "code",
   "execution_count": 1,
   "outputs": [],
   "source": [
    "from collections import Counter\n",
    "import matplotlib.pyplot as plt\n",
    "import json\n",
    "import copy"
   ],
   "metadata": {
    "collapsed": false,
    "pycharm": {
     "name": "#%%\n"
    }
   }
  },
  {
   "cell_type": "code",
   "execution_count": 34,
   "outputs": [
    {
     "data": {
      "text/plain": "[('/api/google-maps', '/api/twitter', 0, 151, 184, 0.82),\n ('/api/twitter', '/api/google-maps', 0, 151, 184, 0.82),\n ('/api/flickr', '/api/youtube', 0, 139, 184, 0.76),\n ('/api/youtube', '/api/flickr', 0, 139, 184, 0.76),\n ('/api/facebook', '/api/twitter', 0, 159, 180, 0.88)]"
     },
     "execution_count": 34,
     "metadata": {},
     "output_type": "execute_result"
    }
   ],
   "source": [
    "data = []\n",
    "with open('raw/all_pairs.txt', 'r', encoding='utf-8') as file:\n",
    "    file.readline()     # 读掉第一行\n",
    "    for line in file:\n",
    "        data.append(eval(line))\n",
    "data[:5]"
   ],
   "metadata": {
    "collapsed": false,
    "pycharm": {
     "name": "#%%\n"
    }
   }
  },
  {
   "cell_type": "code",
   "execution_count": 7,
   "outputs": [
    {
     "data": {
      "text/plain": "[('/api/twitter', '/api/google-maps', 0, 62, 184, 0.0),\n ('/api/flickr', '/api/youtube', 0, 36, 184, 0.0),\n ('/api/twitter', '/api/facebook', 0, 64, 179, 0.0),\n ('/api/flickr', '/api/google-maps', 0, 46, 171, 0.0),\n ('/api/google-maps', '/api/youtube', 0, 48, 157, 0.0),\n ('/api/twilio-sms', '/api/twilio', 0, 42, 152, 0.0)]"
     },
     "execution_count": 7,
     "metadata": {},
     "output_type": "execute_result"
    }
   ],
   "source": [
    "def remove_symmetry(data):\n",
    "    # 清理数据，把对称的删除\n",
    "    data2 = copy.deepcopy(data)\n",
    "    for d in data2:\n",
    "        rev_d = (d[1], d[0], d[2], d[3], d[4], d[5])\n",
    "        if rev_d in data2:\n",
    "            data2.remove(d)\n",
    "    return data2"
   ],
   "metadata": {
    "collapsed": false,
    "pycharm": {
     "name": "#%%\n"
    }
   }
  },
  {
   "cell_type": "markdown",
   "source": [
    "读取原始数据，然后获取我们实际访问出来的存活情况"
   ],
   "metadata": {
    "collapsed": false,
    "pycharm": {
     "name": "#%% md\n"
    }
   }
  },
  {
   "cell_type": "code",
   "execution_count": 16,
   "outputs": [],
   "source": [
    "with open('raw/api_mashup/active_mashups_data.txt', 'r', encoding='utf-8') as act_file:\n",
    "    act_mashups = json.load(act_file)\n",
    "    act_mashups = [m for m in act_mashups if m is not None]\n",
    "\n",
    "with open('raw/api_mashup/deadpool_mashups_data.txt', 'r', encoding='utf-8') as dead_file:\n",
    "    dead_mashups = json.load(dead_file)\n",
    "    dead_mashups = [m for m in dead_mashups if m is not None]\n",
    "\n",
    "all_mashups = act_mashups + dead_mashups"
   ],
   "metadata": {
    "collapsed": false,
    "pycharm": {
     "name": "#%%\n"
    }
   }
  },
  {
   "cell_type": "code",
   "execution_count": 17,
   "outputs": [],
   "source": [
    "with open('raw/accessiblility/api_accessbility/mashup_accessibility.txt', 'r') as acc:\n",
    "    accessibility = json.load(acc)\n",
    "    # accessibility = [ac for ac in accessibility if ac is not None]\n",
    "    # build a dict\n",
    "    acc_dict = {}\n",
    "    for ac in accessibility:\n",
    "        if ac is None:\n",
    "            continue\n",
    "        else:\n",
    "            if ac['is_accessible']:\n",
    "                acc_dict[ac['title']] = True\n",
    "            else:\n",
    "                acc_dict[ac['title']] = False\n",
    "\n",
    "def is_accessible(title):\n",
    "    return acc_dict.get(title, False)\n",
    "\n",
    "def produce_pair(apis, requires_reflexive=False, requires_symmetry=False):\n",
    "    pairs = set()\n",
    "    sorted_apis = sorted(apis, key=lambda x: x[0])\n",
    "    for l in sorted_apis:\n",
    "        if requires_reflexive:\n",
    "            pairs.add((l, l, 0))\n",
    "        for r in sorted_apis:\n",
    "            if l != r:\n",
    "                if requires_symmetry:\n",
    "                    pairs.add((l, r, 0))\n",
    "                else:\n",
    "                    # 不要对称的\n",
    "                    if (r, l, 0) not in pairs:\n",
    "                        pairs.add((l, r, 0))\n",
    "    return list(pairs)"
   ],
   "metadata": {
    "collapsed": false,
    "pycharm": {
     "name": "#%%\n"
    }
   }
  },
  {
   "cell_type": "markdown",
   "source": [
    "### 制作一些数据结构\n",
    "\n",
    "1. mashup_title -> [pair] (list)\n",
    "2. pair -> [mashup_title]\n",
    "3. mashup_title -> mashup_object"
   ],
   "metadata": {
    "collapsed": false,
    "pycharm": {
     "name": "#%% md\n"
    }
   }
  },
  {
   "cell_type": "code",
   "execution_count": 18,
   "outputs": [
    {
     "data": {
      "text/plain": "(7901, 29078)"
     },
     "execution_count": 18,
     "metadata": {},
     "output_type": "execute_result"
    }
   ],
   "source": [
    "api_pairs = {}    # mashup和他的pair\n",
    "api_pair_mashups = {}\n",
    "mashups_name_dict = {}\n",
    "for dd in all_mashups:\n",
    "    mashups_name_dict[dd['title']] = dd\n",
    "    ra_links = []\n",
    "    if dd is None:\n",
    "        continue\n",
    "    for ra in dd['related_apis']:\n",
    "        if ra is None:\n",
    "            continue\n",
    "        ra_links.append(ra['url'])\n",
    "    pairs = produce_pair(ra_links, False, True)\n",
    "    api_pairs[dd['title']] = pairs\n",
    "    for pair in pairs:\n",
    "        if pair in api_pair_mashups:\n",
    "            api_pair_mashups[pair].append(dd['title'])\n",
    "        else:\n",
    "            api_pair_mashups[pair] = [dd['title']]\n",
    "\n",
    "len(api_pairs), len(api_pair_mashups)\n"
   ],
   "metadata": {
    "collapsed": false,
    "pycharm": {
     "name": "#%%\n"
    }
   }
  },
  {
   "cell_type": "code",
   "execution_count": 19,
   "outputs": [],
   "source": [
    "api_pairs_counter_all = Counter()\n",
    "api_pairs_counter_act = Counter()\n",
    "for mashup_name in api_pairs:\n",
    "    pairs = api_pairs[mashup_name]\n",
    "    for pair in pairs:\n",
    "        api_pairs_counter_all[pair] += 1\n",
    "        if is_accessible(mashup_name):\n",
    "            api_pairs_counter_act[pair] += 1"
   ],
   "metadata": {
    "collapsed": false,
    "pycharm": {
     "name": "#%%\n"
    }
   }
  },
  {
   "cell_type": "code",
   "execution_count": 20,
   "outputs": [],
   "source": [
    "# 整理数据\n",
    "api_pairs_list = []\n",
    "for pair in api_pairs_counter_all.keys():\n",
    "    if pair in api_pairs_counter_act:\n",
    "        new_pair = (pair[0], pair[1], pair[2], api_pairs_counter_act[pair], api_pairs_counter_all[pair], 0.)\n",
    "    else:\n",
    "        # 不在act字典，说明没有被活着的mashup引用\n",
    "        new_pair = (pair[0], pair[1], pair[2], 0, api_pairs_counter_all[pair], 0.)\n",
    "    api_pairs_list.append(new_pair)\n",
    "api_pairs_list = sorted(api_pairs_list, key=lambda x: x[4], reverse=True)\n",
    "api_pairs_list = remove_symmetry(api_pairs_list)"
   ],
   "metadata": {
    "collapsed": false,
    "pycharm": {
     "name": "#%%\n"
    }
   }
  },
  {
   "cell_type": "code",
   "execution_count": 21,
   "outputs": [
    {
     "data": {
      "text/plain": "[('/api/google-maps', '/api/twitter', 0, 62, 184, 0.0),\n ('/api/twitter', '/api/google-maps', 0, 62, 184, 0.0),\n ('/api/flickr', '/api/youtube', 0, 36, 184, 0.0),\n ('/api/youtube', '/api/flickr', 0, 36, 184, 0.0),\n ('/api/facebook', '/api/twitter', 0, 64, 179, 0.0),\n ('/api/twitter', '/api/facebook', 0, 64, 179, 0.0),\n ('/api/flickr', '/api/google-maps', 0, 46, 171, 0.0),\n ('/api/google-maps', '/api/flickr', 0, 46, 171, 0.0),\n ('/api/youtube', '/api/google-maps', 0, 48, 157, 0.0),\n ('/api/google-maps', '/api/youtube', 0, 48, 157, 0.0)]"
     },
     "execution_count": 21,
     "metadata": {},
     "output_type": "execute_result"
    }
   ],
   "source": [
    "api_pairs_list[:10]"
   ],
   "metadata": {
    "collapsed": false,
    "pycharm": {
     "name": "#%%\n"
    }
   }
  },
  {
   "cell_type": "code",
   "execution_count": 36,
   "outputs": [
    {
     "data": {
      "text/plain": "(99.856, 112.93739673214614)"
     },
     "execution_count": 36,
     "metadata": {},
     "output_type": "execute_result"
    }
   ],
   "source": [
    "act_count_pair = 0\n",
    "dead_count_pair = 0\n",
    "act_count_mashup = 0\n",
    "dead_count_mashup = 0\n",
    "\n",
    "for dd in all_mashups:\n",
    "    ra_links = []\n",
    "    if dd is None:\n",
    "        continue\n",
    "    for ra in dd['related_apis']:\n",
    "        if ra is None:\n",
    "            continue\n",
    "        ra_links.append(ra['url'])\n",
    "    temp_pairs = produce_pair(ra_links, False, True)\n",
    "    if is_accessible(dd['title']):\n",
    "        act_count_mashup += 1\n",
    "    else:\n",
    "        dead_count_mashup += 1\n",
    "    for pair in temp_pairs:\n",
    "        count = api_pairs_counter_all[pair]\n",
    "        if is_accessible(dd['title']):\n",
    "            act_count_pair += count\n",
    "        else:\n",
    "            dead_count_pair += count\n",
    "\n",
    "act_count_pair / float(act_count_mashup), dead_count_pair / float(dead_count_mashup)\n",
    "\n",
    "\n"
   ],
   "metadata": {
    "collapsed": false,
    "pycharm": {
     "name": "#%%\n"
    }
   }
  },
  {
   "cell_type": "markdown",
   "source": [
    "## 统计Mashup api的被使用次数"
   ],
   "metadata": {
    "collapsed": false,
    "pycharm": {
     "name": "#%% md\n"
    }
   }
  },
  {
   "cell_type": "code",
   "execution_count": 8,
   "outputs": [
    {
     "data": {
      "text/plain": "1693"
     },
     "execution_count": 8,
     "metadata": {},
     "output_type": "execute_result"
    }
   ],
   "source": [
    "api_usage_counter = Counter()\n",
    "for ma in all_mashups:\n",
    "    ras = ma['related_apis']\n",
    "    for ra in ras:\n",
    "        if ra is None:\n",
    "            continue\n",
    "        api_usage_counter[ra['url']] += 1\n",
    "\n",
    "len(api_usage_counter)"
   ],
   "metadata": {
    "collapsed": false,
    "pycharm": {
     "name": "#%%\n"
    }
   }
  },
  {
   "cell_type": "code",
   "execution_count": 9,
   "outputs": [
    {
     "data": {
      "text/plain": "[('/api/google-maps', 2575),\n ('/api/twitter', 827),\n ('/api/youtube', 710),\n ('/api/flickr', 635),\n ('/api/facebook', 451),\n ('/api/amazon-product-advertising', 433),\n ('/api/twilio', 361),\n ('/api/lastfm', 245),\n ('/api/ebay', 227),\n ('/api/google-search', 194)]"
     },
     "execution_count": 9,
     "metadata": {},
     "output_type": "execute_result"
    }
   ],
   "source": [
    "list(sorted(api_usage_counter.items(), key=lambda x: x[1], reverse=True))[:10]"
   ],
   "metadata": {
    "collapsed": false,
    "pycharm": {
     "name": "#%%\n"
    }
   }
  },
  {
   "cell_type": "code",
   "execution_count": 10,
   "outputs": [],
   "source": [
    "def get_usage(url):\n",
    "    return api_usage_counter[url]"
   ],
   "metadata": {
    "collapsed": false,
    "pycharm": {
     "name": "#%%\n"
    }
   }
  },
  {
   "cell_type": "code",
   "execution_count": 11,
   "outputs": [
    {
     "data": {
      "text/plain": "2575"
     },
     "execution_count": 11,
     "metadata": {},
     "output_type": "execute_result"
    }
   ],
   "source": [
    "get_usage('/api/google-maps')"
   ],
   "metadata": {
    "collapsed": false,
    "pycharm": {
     "name": "#%%\n"
    }
   }
  },
  {
   "cell_type": "markdown",
   "source": [
    "已经有了pair->mashups\n",
    "\n",
    "还需要mashup->pairs"
   ],
   "metadata": {
    "collapsed": false,
    "pycharm": {
     "name": "#%% md\n"
    }
   }
  },
  {
   "cell_type": "code",
   "execution_count": 12,
   "outputs": [
    {
     "data": {
      "text/plain": "[('Mashup: PropRover',\n  [('/api/twitter', '/api/google-maps', 0, 62, 184, 0.0),\n   ('/api/feedburner', '/api/twitter', 0, 2, 7, 0.0),\n   ('/api/feedburner', '/api/google-maps', 0, 2, 6, 0.0),\n   ('/api/feedburner', '/api/facebook-business-mapping', 0, 0, 1, 0.0),\n   ('/api/facebook-business-mapping', '/api/twitter', 0, 0, 1, 0.0),\n   ('/api/feedburner', '/api/google-my-business', 0, 0, 1, 0.0),\n   ('/api/google-my-business', '/api/facebook-business-mapping', 0, 0, 1, 0.0),\n   ('/api/google-maps', '/api/facebook-business-mapping', 0, 0, 1, 0.0),\n   ('/api/twitter', '/api/google-my-business', 0, 0, 1, 0.0),\n   ('/api/facebook-business-mapping', '/api/feedburner', 0, 0, 1, 0.0),\n   ('/api/google-maps', '/api/google-my-business', 0, 0, 1, 0.0)]),\n ('Mashup: We Read, We Tweet',\n  [('/api/twitter', '/api/google-maps', 0, 62, 184, 0.0),\n   ('/api/google-maps', '/api/new-york-times-article-search', 0, 0, 4, 0.0),\n   ('/api/twitter', '/api/backtweets', 0, 0, 3, 0.0),\n   ('/api/new-york-times-article-search', '/api/twitter', 0, 0, 2, 0.0),\n   ('/api/backtweets', '/api/google-maps', 0, 0, 1, 0.0),\n   ('/api/new-york-times-article-search', '/api/backtweets', 0, 0, 1, 0.0)]),\n ('Mashup: AuroraMap',\n  [('/api/twitter', '/api/google-maps', 0, 62, 184, 0.0),\n   ('/api/twitter', '/api/facebook', 0, 64, 179, 0.0),\n   ('/api/flickr', '/api/google-maps', 0, 46, 171, 0.0),\n   ('/api/facebook', '/api/google-maps', 0, 39, 111, 0.0),\n   ('/api/flickr', '/api/twitter', 0, 37, 111, 0.0),\n   ('/api/facebook', '/api/flickr', 0, 24, 71, 0.0)])]"
     },
     "execution_count": 12,
     "metadata": {},
     "output_type": "execute_result"
    }
   ],
   "source": [
    "mashup_count_pairs = {}\n",
    "for pl in data:\n",
    "    temp_pair = (pl[0], pl[1], pl[2])\n",
    "    for mashup in api_pair_mashups[temp_pair]:\n",
    "        if mashup in mashup_count_pairs:\n",
    "            mashup_count_pairs[mashup].append(pl)\n",
    "        else:\n",
    "            mashup_count_pairs[mashup] = [pl]\n",
    "\n",
    "list(mashup_count_pairs.items())[:3]\n"
   ],
   "metadata": {
    "collapsed": false,
    "pycharm": {
     "name": "#%%\n"
    }
   }
  },
  {
   "cell_type": "code",
   "execution_count": 16,
   "outputs": [
    {
     "data": {
      "text/plain": "False"
     },
     "execution_count": 16,
     "metadata": {},
     "output_type": "execute_result"
    }
   ],
   "source": [
    "is_accessible('Mashup: Best Buys')"
   ],
   "metadata": {
    "collapsed": false,
    "pycharm": {
     "name": "#%%\n"
    }
   }
  },
  {
   "cell_type": "markdown",
   "source": [
    "读取mashup的csv文件的死亡时间"
   ],
   "metadata": {
    "collapsed": false,
    "pycharm": {
     "name": "#%% md\n"
    }
   }
  },
  {
   "cell_type": "code",
   "execution_count": 22,
   "outputs": [],
   "source": [
    "import pandas as pd\n",
    "import numpy as np\n",
    "\n",
    "with open('graph_data_backup/mashup_nodes_estimator2.csv', 'r', encoding='utf-8') as csvf:\n",
    "    mashup_nodes = pd.read_csv(csvf, encoding='utf-8', parse_dates=['st', 'et', 'oet'])\n",
    "\n",
    "# 精简掉\n",
    "mashup_nodes = mashup_nodes[['name', 'st', 'et', 'oet']]\n"
   ],
   "metadata": {
    "collapsed": false,
    "pycharm": {
     "name": "#%%\n"
    }
   }
  },
  {
   "cell_type": "code",
   "execution_count": 23,
   "outputs": [
    {
     "name": "stdout",
     "output_type": "stream",
     "text": [
      "7766\n"
     ]
    }
   ],
   "source": [
    "submit_dead_time_dict = {}\n",
    "\n",
    "for mashup_name, group in mashup_nodes.groupby('name'):\n",
    "    dates = (group['st'], group['et'], group['oet'])\n",
    "    submit_dead_time_dict[mashup_name] = dates\n",
    "\n",
    "print(len(submit_dead_time_dict))"
   ],
   "metadata": {
    "collapsed": false,
    "pycharm": {
     "name": "#%%\n"
    }
   }
  },
  {
   "cell_type": "code",
   "execution_count": 10,
   "outputs": [
    {
     "name": "stdout",
     "output_type": "stream",
     "text": [
      "909   2012-12-20\n",
      "Name: st, dtype: datetime64[ns] 909   2222-02-22\n",
      "Name: oet, dtype: datetime64[ns]\n",
      "76399.0\n"
     ]
    }
   ],
   "source": [
    "# 转换为“天”为单位\n",
    "dates_list = list(submit_dead_time_dict.values())\n",
    "dates1 = dates_list[0]\n",
    "st1, oet1 = dates1[0], dates1[2]\n",
    "print(st1, oet1)\n",
    "delta1 = oet1 - st1\n",
    "print(delta1.values[0] / np.timedelta64(1, 'D'))\n"
   ],
   "metadata": {
    "collapsed": false,
    "pycharm": {
     "name": "#%%\n"
    }
   }
  },
  {
   "cell_type": "code",
   "execution_count": 24,
   "outputs": [],
   "source": [
    "# 统计一下mashup平均存活时间\n",
    "def get_table_data(api_pairs_list, dead_time='oet'):\n",
    "    new_pair_list = []\n",
    "    npday = np.timedelta64(1, 'D')\n",
    "    for pair in api_pairs_list:\n",
    "        temp_pair = (pair[0], pair[1], pair[2])\n",
    "        using_mashup_names = api_pair_mashups[temp_pair]    # 获得了names，要获得详情\n",
    "        if len(using_mashup_names) == 0:\n",
    "            print(temp_pair)\n",
    "            continue\n",
    "        act_use = 0\n",
    "        all_use = 0\n",
    "        alive_days_list = []\n",
    "        for name in using_mashup_names:\n",
    "            # mashup_obj = mashups_name_dict[name]\n",
    "            st, et, oet = submit_dead_time_dict.get(name, (None, None, None))\n",
    "            # st, et, oet = st.dt.year.values[0], et.dt.year.values[0], oet.dt.year.values[0]\n",
    "            if st is None:\n",
    "                # 这个mashup不在csv文件中，直接舍弃\n",
    "                continue\n",
    "            # st 不是None，all_use += 1\n",
    "            all_use += 1\n",
    "            if dead_time == 'oet':\n",
    "                # 用oet判断存活与否\n",
    "                if oet.dt.year.values[0] > 2200:\n",
    "                    # 活着的mashup\n",
    "                    act_use += 1\n",
    "                    # alive_days = '-' # 到目前依然存活\n",
    "                else:\n",
    "                    # 已死亡的mashup\n",
    "                    alive_days = oet - st\n",
    "                    alive_days_list.append(alive_days.values[0] / npday)\n",
    "            elif dead_time == 'et':\n",
    "                # 用et判断存活与否\n",
    "                if et.dt.year.values[0] > 2200:\n",
    "                    # 活着的mashup\n",
    "                    act_use += 1\n",
    "                else:\n",
    "                    # 已死亡的mashup\n",
    "                    alive_days = et - st\n",
    "                    alive_days_list.append(alive_days.values[0] / npday)\n",
    "            else:\n",
    "                print('Use et or oet')\n",
    "                return None\n",
    "        if all_use == 0:\n",
    "            print(temp_pair)\n",
    "            continue\n",
    "        dead_use = all_use - act_use\n",
    "        if dead_use == 0:\n",
    "            new_pair = (pair[0], pair[1], pair[2], act_use, all_use, act_use / float(all_use), -1)\n",
    "        else:\n",
    "            new_pair = (pair[0], pair[1], pair[2], act_use, all_use, act_use / float(all_use), sum(alive_days_list) / dead_use)\n",
    "        new_pair_list.append(new_pair)\n",
    "\n",
    "    return new_pair_list"
   ],
   "metadata": {
    "collapsed": false,
    "pycharm": {
     "name": "#%%\n"
    }
   }
  },
  {
   "cell_type": "code",
   "execution_count": 25,
   "outputs": [
    {
     "name": "stdout",
     "output_type": "stream",
     "text": [
      "('/api/typekey', '/api/paypal', 0)\n",
      "('/api/paypal', '/api/typekey', 0)\n",
      "('/api/shoppingcom', '/api/amazon-a9-opensearch', 0)\n",
      "('/api/amazon-a9-opensearch', '/api/shoppingcom', 0)\n",
      "('/api/alexa-web-search', '/api/amazon-product-advertising', 0)\n",
      "('/api/amazon-product-advertising', '/api/alexa-web-search', 0)\n",
      "('/api/openlayers', '/api/yahoo-maps', 0)\n",
      "('/api/yahoo-maps', '/api/openlayers', 0)\n",
      "('/api/openlayers', '/api/microsoft-bing-maps', 0)\n",
      "('/api/openlayers', '/api/nasa', 0)\n",
      "('/api/nasa', '/api/openlayers', 0)\n",
      "('/api/microsoft-bing-maps', '/api/openlayers', 0)\n",
      "('/api/lyricsfly', '/api/seeqpod', 0)\n",
      "('/api/lyricsfly', '/api/amazon-simpledb', 0)\n",
      "('/api/seeqpod', '/api/lyricsfly', 0)\n",
      "('/api/amazon-simpledb', '/api/lyricsfly', 0)\n",
      "('/api/smugmug', '/api/google-maps', 0)\n",
      "('/api/google-maps', '/api/smugmug', 0)\n",
      "('/api/eventful', '/api/microsoft-mappoint', 0)\n",
      "('/api/microsoft-mappoint', '/api/eventful', 0)\n",
      "('/api/delicious-0', '/api/amazon-a9-opensearch', 0)\n",
      "('/api/amazon-a9-opensearch', '/api/google-maps', 0)\n",
      "('/api/yahoo-traffic', '/api/amazon-a9-opensearch', 0)\n",
      "('/api/amazon-a9-opensearch', '/api/delicious-0', 0)\n",
      "('/api/google-maps', '/api/amazon-a9-opensearch', 0)\n",
      "('/api/amazon-a9-opensearch', '/api/yahoo-traffic', 0)\n"
     ]
    }
   ],
   "source": [
    "table_data = get_table_data(api_pairs_list, dead_time='et')"
   ],
   "metadata": {
    "collapsed": false,
    "pycharm": {
     "name": "#%%\n"
    }
   }
  },
  {
   "cell_type": "code",
   "execution_count": 29,
   "outputs": [
    {
     "data": {
      "text/plain": "[('/api/google-maps',\n  '/api/twitter',\n  0,\n  63,\n  185,\n  0.34054054054054056,\n  1405.0901639344263),\n ('/api/twitter',\n  '/api/google-maps',\n  0,\n  63,\n  185,\n  0.34054054054054056,\n  1405.0901639344263),\n ('/api/flickr',\n  '/api/youtube',\n  0,\n  36,\n  184,\n  0.1956521739130435,\n  1589.1554054054054),\n ('/api/youtube',\n  '/api/flickr',\n  0,\n  36,\n  184,\n  0.1956521739130435,\n  1589.1554054054054),\n ('/api/facebook',\n  '/api/twitter',\n  0,\n  64,\n  179,\n  0.3575418994413408,\n  1414.2608695652175),\n ('/api/twitter',\n  '/api/facebook',\n  0,\n  64,\n  179,\n  0.3575418994413408,\n  1414.2608695652175)]"
     },
     "execution_count": 29,
     "metadata": {},
     "output_type": "execute_result"
    }
   ],
   "source": [
    "sorted(table_data, key=lambda x: x[4], reverse=True)[:6]"
   ],
   "metadata": {
    "collapsed": false,
    "pycharm": {
     "name": "#%%\n"
    }
   }
  },
  {
   "cell_type": "code",
   "execution_count": 2,
   "outputs": [],
   "source": [
    "import pickle"
   ],
   "metadata": {
    "collapsed": false,
    "pycharm": {
     "name": "#%%\n"
    }
   }
  },
  {
   "cell_type": "code",
   "execution_count": 28,
   "outputs": [],
   "source": [
    "# table_file = open('table_data et.pkl', 'wb')\n",
    "# pickle.dump(table_data, table_file)\n",
    "# table_file.close()"
   ],
   "metadata": {
    "collapsed": false,
    "pycharm": {
     "name": "#%%\n"
    }
   }
  },
  {
   "cell_type": "code",
   "execution_count": 3,
   "outputs": [
    {
     "data": {
      "text/plain": "[('/api/google-maps',\n  '/api/twitter',\n  0,\n  63,\n  185,\n  0.34054054054054056,\n  1405.0901639344263),\n ('/api/twitter',\n  '/api/google-maps',\n  0,\n  63,\n  185,\n  0.34054054054054056,\n  1405.0901639344263),\n ('/api/flickr',\n  '/api/youtube',\n  0,\n  36,\n  184,\n  0.1956521739130435,\n  1589.1554054054054),\n ('/api/youtube',\n  '/api/flickr',\n  0,\n  36,\n  184,\n  0.1956521739130435,\n  1589.1554054054054),\n ('/api/facebook',\n  '/api/twitter',\n  0,\n  64,\n  179,\n  0.3575418994413408,\n  1414.2608695652175),\n ('/api/twitter',\n  '/api/facebook',\n  0,\n  64,\n  179,\n  0.3575418994413408,\n  1414.2608695652175),\n ('/api/flickr',\n  '/api/google-maps',\n  0,\n  47,\n  169,\n  0.2781065088757396,\n  1608.622950819672),\n ('/api/google-maps',\n  '/api/flickr',\n  0,\n  47,\n  169,\n  0.2781065088757396,\n  1608.622950819672),\n ('/api/youtube',\n  '/api/google-maps',\n  0,\n  48,\n  157,\n  0.3057324840764331,\n  1596.5045871559632),\n ('/api/google-maps',\n  '/api/youtube',\n  0,\n  48,\n  157,\n  0.3057324840764331,\n  1596.5045871559632)]"
     },
     "execution_count": 3,
     "metadata": {},
     "output_type": "execute_result"
    }
   ],
   "source": [
    "with open('table_data et.pkl', 'rb') as tbf:\n",
    "    tda = pickle.load(tbf)\n",
    "sorted(tda, key=lambda x: x[4], reverse=True)[:10]"
   ],
   "metadata": {
    "collapsed": false,
    "pycharm": {
     "name": "#%%\n"
    }
   }
  },
  {
   "cell_type": "code",
   "execution_count": 4,
   "outputs": [
    {
     "data": {
      "text/plain": "[('/api/google-maps', '/api/twitter', 0, 63, 185, 0.34, 1405.09),\n ('/api/twitter', '/api/google-maps', 0, 63, 185, 0.34, 1405.09),\n ('/api/flickr', '/api/youtube', 0, 36, 184, 0.2, 1589.16),\n ('/api/youtube', '/api/flickr', 0, 36, 184, 0.2, 1589.16),\n ('/api/facebook', '/api/twitter', 0, 64, 179, 0.36, 1414.26),\n ('/api/twitter', '/api/facebook', 0, 64, 179, 0.36, 1414.26),\n ('/api/flickr', '/api/google-maps', 0, 47, 169, 0.28, 1608.62),\n ('/api/google-maps', '/api/flickr', 0, 47, 169, 0.28, 1608.62),\n ('/api/youtube', '/api/google-maps', 0, 48, 157, 0.31, 1596.5),\n ('/api/google-maps', '/api/youtube', 0, 48, 157, 0.31, 1596.5)]"
     },
     "execution_count": 4,
     "metadata": {},
     "output_type": "execute_result"
    }
   ],
   "source": [
    "tda = [(line[0], line[1], line[2], line[3], line[4], round(line[5], 2), round(line[6], 2)) for line in tda]\n",
    "sorted(tda, key=lambda x: x[4], reverse=True)[:10]"
   ],
   "metadata": {
    "collapsed": false,
    "pycharm": {
     "name": "#%%\n"
    }
   }
  },
  {
   "cell_type": "code",
   "execution_count": 5,
   "outputs": [],
   "source": [
    "# 去除对称的\n",
    "\n",
    "data = tda\n",
    "# data = api_pairs_list\n",
    "for d in data:\n",
    "    rev_d = (d[1], d[0], d[2], d[3], d[4], d[5], d[6])\n",
    "    if rev_d in data:\n",
    "        data.remove(d)"
   ],
   "metadata": {
    "collapsed": false,
    "pycharm": {
     "name": "#%%\n"
    }
   }
  },
  {
   "cell_type": "code",
   "execution_count": 15,
   "outputs": [],
   "source": [
    "# 查看这个数据里面有没有存活率特别高的\n",
    "high_ratio_low_use = sorted([p for p in tda if 10 <= p[4] <= 80 and p[5] >= 0.5], key=lambda x: x[5], reverse=True)"
   ],
   "metadata": {
    "collapsed": false,
    "pycharm": {
     "name": "#%%\n"
    }
   }
  },
  {
   "cell_type": "code",
   "execution_count": 33,
   "outputs": [
    {
     "data": {
      "text/plain": "([('/api/twitter', '/api/google-maps', 0, 63, 185, 0.34, 1405.09),\n  ('/api/youtube', '/api/flickr', 0, 36, 184, 0.2, 1589.16),\n  ('/api/twitter', '/api/facebook', 0, 64, 179, 0.36, 1414.26),\n  ('/api/google-maps', '/api/flickr', 0, 47, 169, 0.28, 1608.62),\n  ('/api/google-maps', '/api/youtube', 0, 48, 157, 0.31, 1596.5),\n  ('/api/twilio-sms', '/api/twilio', 0, 43, 153, 0.28, 1259.22)],\n [('/api/yahoo-shopping', '/api/ebay', 0, 2, 10, 0.2, 1121.12),\n  ('/api/technorati', '/api/lastfm', 0, 4, 10, 0.4, 1788.17),\n  ('/api/delicious-0', '/api/feedburner', 0, 2, 10, 0.2, 1474.25),\n  ('/api/yahoo-search', '/api/yahoo-video-search', 0, 2, 10, 0.2, 1947.25),\n  ('/api/twitter', '/api/technorati', 0, 2, 10, 0.2, 1139.88),\n  ('/api/wikipedia', '/api/geonames', 0, 3, 10, 0.3, 1033.71)])"
     },
     "execution_count": 33,
     "metadata": {},
     "output_type": "execute_result"
    }
   ],
   "source": [
    "data[:6], [d for d in data if d[4] >= 10][-6:]"
   ],
   "metadata": {
    "collapsed": false,
    "pycharm": {
     "name": "#%%\n"
    }
   }
  }
 ],
 "metadata": {
  "kernelspec": {
   "display_name": "Python 3",
   "language": "python",
   "name": "python3"
  },
  "language_info": {
   "codemirror_mode": {
    "name": "ipython",
    "version": 2
   },
   "file_extension": ".py",
   "mimetype": "text/x-python",
   "name": "python",
   "nbconvert_exporter": "python",
   "pygments_lexer": "ipython2",
   "version": "2.7.6"
  }
 },
 "nbformat": 4,
 "nbformat_minor": 0
}